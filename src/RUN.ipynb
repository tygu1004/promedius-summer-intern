{
 "cells": [
  {
   "cell_type": "markdown",
   "metadata": {},
   "source": [
    "### Train\n",
    "https://github.com/hyeongyuy/CT-CYCLE_IDNETITY_GAN_tensorflow"
   ]
  },
  {
   "cell_type": "code",
   "execution_count": 1,
   "metadata": {
    "scrolled": true
   },
   "outputs": [
    {
     "name": "stdout",
     "output_type": "stream",
     "text": [
      "/usr/local/lib/python3.5/dist-packages/h5py/__init__.py:36: FutureWarning: Conversion of the second argument of issubdtype from `float` to `np.floating` is deprecated. In future, it will be treated as `np.float64 == np.dtype(float).type`.\n",
      "  from ._conv import register_converters as _register_converters\n",
      "/usr/local/lib/python3.5/dist-packages/dicom/__init__.py:53: UserWarning: \n",
      "This code is using an older version of pydicom, which is no longer \n",
      "maintained as of Jan 2017.  You can access the new pydicom features and API \n",
      "by installing `pydicom` from PyPI.\n",
      "See 'Transitioning to pydicom 1.x' section at pydicom.readthedocs.org \n",
      "for more information.\n",
      "\n",
      "  warnings.warn(msg)\n",
      "Namespace(L1_gamma=5.0, L1_lambda=10.0, batch_size=10, beta1=0.5, beta2=0.999, checkpoint_dir='../logs/checkpoint', continue_train=True, dcm_path='../data', decay_epoch=100, end_epoch=100, gpu_no=1, img_channel=1, img_vmax=3072, img_vmin=-1024, lr=0.0002, model='cycle_identity', ndf=64, ngf=128, nglf=15, patch_size=56, phase='train', print_freq=10, save_freq=20, steps_per_epoch=20, taskID=None, test_npy_save_dir='/data/CYCLEIDENT/test', test_patient_no_A=['003_B30', '003_B30'], test_patient_no_B=['003_B50', '003_B50'], train_patient_no_A=['001_B30', '002_B30'], train_patient_no_B=['001_B50', '002_B50'], unpair=True, whole_size=512)\n",
      "2020-07-01 05:00:35.919636: I tensorflow/core/platform/cpu_feature_guard.cc:140] Your CPU supports instructions that this TensorFlow binary was not compiled to use: AVX2 AVX512F FMA\n",
      "2020-07-01 05:00:36.046242: I tensorflow/core/common_runtime/gpu/gpu_device.cc:1356] Found device 0 with properties: \n",
      "name: Quadro RTX 8000 major: 7 minor: 5 memoryClockRate(GHz): 1.77\n",
      "pciBusID: 0000:65:00.0\n",
      "totalMemory: 47.46GiB freeMemory: 47.29GiB\n",
      "2020-07-01 05:00:36.046274: I tensorflow/core/common_runtime/gpu/gpu_device.cc:1435] Adding visible gpu devices: 0\n",
      "2020-07-01 05:00:36.272081: I tensorflow/core/common_runtime/gpu/gpu_device.cc:923] Device interconnect StreamExecutor with strength 1 edge matrix:\n",
      "2020-07-01 05:00:36.272128: I tensorflow/core/common_runtime/gpu/gpu_device.cc:929]      0 \n",
      "2020-07-01 05:00:36.272134: I tensorflow/core/common_runtime/gpu/gpu_device.cc:942] 0:   N \n",
      "2020-07-01 05:00:36.272222: I tensorflow/core/common_runtime/gpu/gpu_device.cc:1053] Created TensorFlow device (/job:localhost/replica:0/task:0/device:GPU:0 with 45937 MB memory) -> physical GPU (device: 0, name: Quadro RTX 8000, pci bus id: 0000:65:00.0, compute capability: 7.5)\n",
      "directory check!!\n",
      "checkpoint : ../logs/checkpoint/20200701_050036\n",
      "tensorboard_logs : ../logs/checkpoint/20200701_050036_tb\n",
      "data load... dicom -> numpy\n",
      "data load complete !!!, 10.740774393081665\n",
      "N_train : 670, N_test : 694\n",
      "--------------------------------------------\n",
      "# of parameters : 12954352 \n",
      " [*] Reading checkpoint...\n",
      " [!] Load failed...\n",
      "Start point : iter : 0, epoch : 0\n",
      "Epoch: 0 9/20 time: 8.655736923217773 lr 0.0002: \n",
      "Epoch: 0 19/20 time: 15.734275102615356 lr 0.0002: \n",
      "Epoch: 1 9/20 time: 23.19075059890747 lr 0.0002: \n",
      "Epoch: 1 19/20 time: 29.529078245162964 lr 0.0002: \n",
      "Epoch: 2 9/20 time: 36.78870368003845 lr 0.0002: \n",
      "Epoch: 2 19/20 time: 43.168936252593994 lr 0.0002: \n",
      "Epoch: 3 9/20 time: 50.48001289367676 lr 0.0002: \n",
      "Epoch: 3 19/20 time: 56.89077568054199 lr 0.0002: \n",
      "Epoch: 4 9/20 time: 64.27502155303955 lr 0.0002: \n",
      "Epoch: 4 19/20 time: 70.7150444984436 lr 0.0002: \n",
      "Epoch: 5 9/20 time: 78.06988739967346 lr 0.0002: \n",
      "Epoch: 5 19/20 time: 84.53967595100403 lr 0.0002: \n",
      "Epoch: 6 9/20 time: 91.94171833992004 lr 0.0002: \n",
      "Epoch: 6 19/20 time: 98.40592336654663 lr 0.0002: \n",
      "Epoch: 7 9/20 time: 105.78351902961731 lr 0.0002: \n",
      "Epoch: 7 19/20 time: 112.2596788406372 lr 0.0002: \n",
      "Epoch: 8 9/20 time: 119.66481876373291 lr 0.0002: \n",
      "Epoch: 8 19/20 time: 126.16277956962585 lr 0.0002: \n",
      "Epoch: 9 9/20 time: 133.72372674942017 lr 0.0002: \n",
      "Epoch: 9 19/20 time: 140.21710085868835 lr 0.0002: \n",
      "Epoch: 10 9/20 time: 147.65794396400452 lr 0.0002: \n",
      "Epoch: 10 19/20 time: 154.1835000514984 lr 0.0002: \n",
      "Epoch: 11 9/20 time: 161.61536836624146 lr 0.0002: \n",
      "Epoch: 11 19/20 time: 168.12894487380981 lr 0.0002: \n",
      "Epoch: 12 9/20 time: 175.5622582435608 lr 0.0002: \n",
      "Epoch: 12 19/20 time: 182.0878450870514 lr 0.0002: \n",
      "Epoch: 13 9/20 time: 189.52657675743103 lr 0.0002: \n",
      "Epoch: 13 19/20 time: 196.04505944252014 lr 0.0002: \n",
      "Epoch: 14 9/20 time: 203.4871470928192 lr 0.0002: \n",
      "Epoch: 14 19/20 time: 210.01101398468018 lr 0.0002: \n",
      "Epoch: 15 9/20 time: 217.4380087852478 lr 0.0002: \n",
      "Epoch: 15 19/20 time: 223.98861718177795 lr 0.0002: \n",
      "Epoch: 16 9/20 time: 231.15175795555115 lr 0.0002: \n",
      "Epoch: 16 19/20 time: 237.26307320594788 lr 0.0002: \n",
      "Epoch: 17 9/20 time: 244.2890133857727 lr 0.0002: \n",
      "Epoch: 17 19/20 time: 250.400164604187 lr 0.0002: \n",
      "Epoch: 18 9/20 time: 257.801203250885 lr 0.0002: \n",
      "Epoch: 18 19/20 time: 264.3205726146698 lr 0.0002: \n",
      "Epoch: 19 9/20 time: 271.7732148170471 lr 0.0002: \n",
      "Epoch: 19 19/20 time: 278.29671001434326 lr 0.0002: \n",
      "Epoch: 20 9/20 time: 285.7411539554596 lr 0.0002: \n",
      "Epoch: 20 19/20 time: 292.26458048820496 lr 0.0002: \n",
      "Epoch: 21 9/20 time: 299.8484489917755 lr 0.0002: \n",
      "Epoch: 21 19/20 time: 306.3675944805145 lr 0.0002: \n",
      "Epoch: 22 9/20 time: 313.8413944244385 lr 0.0002: \n",
      "Epoch: 22 19/20 time: 320.37024569511414 lr 0.0002: \n",
      "Epoch: 23 9/20 time: 327.82316756248474 lr 0.0002: \n",
      "Epoch: 23 19/20 time: 334.3508720397949 lr 0.0002: \n",
      "Epoch: 24 9/20 time: 341.8340997695923 lr 0.0002: \n",
      "Epoch: 24 19/20 time: 348.37844800949097 lr 0.0002: \n",
      "Epoch: 25 9/20 time: 355.82112288475037 lr 0.0002: \n",
      "Epoch: 25 19/20 time: 362.35267543792725 lr 0.0002: \n",
      "Epoch: 26 9/20 time: 369.83149933815 lr 0.0002: \n",
      "Epoch: 26 19/20 time: 376.37454295158386 lr 0.0002: \n",
      "Epoch: 27 9/20 time: 383.81732869148254 lr 0.0002: \n",
      "Epoch: 27 19/20 time: 390.3463122844696 lr 0.0002: \n",
      "Epoch: 28 9/20 time: 397.7941381931305 lr 0.0002: \n",
      "Epoch: 28 19/20 time: 404.3261203765869 lr 0.0002: \n",
      "Epoch: 29 9/20 time: 411.76286244392395 lr 0.0002: \n",
      "Epoch: 29 19/20 time: 418.30977725982666 lr 0.0002: \n",
      "Epoch: 30 9/20 time: 425.765953540802 lr 0.0002: \n",
      "Epoch: 30 19/20 time: 432.3130040168762 lr 0.0002: \n",
      "^C\n",
      "Traceback (most recent call last):\n",
      "  File \"main.py\", line 80, in <module>\n",
      "    model.train(args) if args.phase == 'train' else model.test(args)\n",
      "  File \"/src/open_release/src/cycle_identity_model.py\", line 236, in train\n",
      "    self.check_sample(args, self.start_step)\n",
      "  File \"/src/open_release/src/cycle_identity_model.py\", line 265, in check_sample\n",
      "    self.test_G_X: G_X.reshape([1] + self.test_G_X.get_shape().as_list()[1:])})\n",
      "  File \"/usr/local/lib/python3.5/dist-packages/tensorflow/python/client/session.py\", line 900, in run\n",
      "    run_metadata_ptr)\n",
      "  File \"/usr/local/lib/python3.5/dist-packages/tensorflow/python/client/session.py\", line 1135, in _run\n",
      "    feed_dict_tensor, options, run_metadata)\n",
      "  File \"/usr/local/lib/python3.5/dist-packages/tensorflow/python/client/session.py\", line 1316, in _do_run\n",
      "    run_metadata)\n",
      "  File \"/usr/local/lib/python3.5/dist-packages/tensorflow/python/client/session.py\", line 1322, in _do_call\n",
      "    return fn(*args)\n",
      "  File \"/usr/local/lib/python3.5/dist-packages/tensorflow/python/client/session.py\", line 1307, in _run_fn\n",
      "    options, feed_dict, fetch_list, target_list, run_metadata)\n",
      "  File \"/usr/local/lib/python3.5/dist-packages/tensorflow/python/client/session.py\", line 1409, in _call_tf_sessionrun\n",
      "    run_metadata)\n",
      "KeyboardInterrupt\n"
     ]
    }
   ],
   "source": [
    "!python main.py \\\n",
    "--phase=train \\\n",
    "--dcm_path='/data' \\\n",
    "--train_A_list='001_B30,002_B30' \\\n",
    "--train_B_list='001_B50,002_B50' \\\n",
    "--test_A_list='003_B30,003_B30' \\\n",
    "--test_B_list='003_B50,003_B50' \\\n",
    "--checkpoint_dir='/logs/checkpoint' \\\n",
    "--patch_size=56 \\\n",
    "--end_epoch=100 \\\n",
    "--batch_size=10 \\\n",
    "--steps_per_epoch=20 \\\n",
    "--save_freq=20 \\\n",
    "--print_freq=10 \\\n",
    "--gpu_no=0"
   ]
  },
  {
   "cell_type": "code",
   "execution_count": 4,
   "metadata": {},
   "outputs": [
    {
     "name": "stdout",
     "output_type": "stream",
     "text": [
      "/usr/local/lib/python3.5/dist-packages/h5py/__init__.py:36: FutureWarning: Conversion of the second argument of issubdtype from `float` to `np.floating` is deprecated. In future, it will be treated as `np.float64 == np.dtype(float).type`.\n",
      "  from ._conv import register_converters as _register_converters\n",
      "2020-07-01 06:53:54.563159: I tensorflow/core/platform/cpu_feature_guard.cc:140] Your CPU supports instructions that this TensorFlow binary was not compiled to use: AVX2 AVX512F FMA\n",
      "2020-07-01 06:53:54.716633: I tensorflow/core/common_runtime/gpu/gpu_device.cc:1356] Found device 0 with properties: \n",
      "name: Quadro RTX 8000 major: 7 minor: 5 memoryClockRate(GHz): 1.77\n",
      "pciBusID: 0000:17:00.0\n",
      "totalMemory: 47.46GiB freeMemory: 47.29GiB\n",
      "2020-07-01 06:53:54.819964: I tensorflow/core/common_runtime/gpu/gpu_device.cc:1356] Found device 1 with properties: \n",
      "name: Quadro RTX 8000 major: 7 minor: 5 memoryClockRate(GHz): 1.77\n",
      "pciBusID: 0000:65:00.0\n",
      "totalMemory: 47.46GiB freeMemory: 47.29GiB\n",
      "2020-07-01 06:53:54.820016: I tensorflow/core/common_runtime/gpu/gpu_device.cc:1435] Adding visible gpu devices: 0, 1\n",
      "2020-07-01 06:53:55.217491: I tensorflow/core/common_runtime/gpu/gpu_device.cc:923] Device interconnect StreamExecutor with strength 1 edge matrix:\n",
      "2020-07-01 06:53:55.217532: I tensorflow/core/common_runtime/gpu/gpu_device.cc:929]      0 1 \n",
      "2020-07-01 06:53:55.217539: I tensorflow/core/common_runtime/gpu/gpu_device.cc:942] 0:   N Y \n",
      "2020-07-01 06:53:55.217544: I tensorflow/core/common_runtime/gpu/gpu_device.cc:942] 1:   Y N \n",
      "TensorBoard 1.8.0 at http://0.0.0.0:6006 (Press CTRL+C to quit)\n",
      "^C\n"
     ]
    }
   ],
   "source": [
    "!tensorboard --logdir=../logs/checkpoint --port=6006 --host=0.0.0.0"
   ]
  },
  {
   "cell_type": "markdown",
   "metadata": {},
   "source": [
    "### Test"
   ]
  },
  {
   "cell_type": "code",
   "execution_count": 1,
   "metadata": {
    "scrolled": true
   },
   "outputs": [
    {
     "name": "stdout",
     "output_type": "stream",
     "text": [
      "/usr/local/lib/python3.5/dist-packages/h5py/__init__.py:36: FutureWarning: Conversion of the second argument of issubdtype from `float` to `np.floating` is deprecated. In future, it will be treated as `np.float64 == np.dtype(float).type`.\n",
      "  from ._conv import register_converters as _register_converters\n",
      "/usr/local/lib/python3.5/dist-packages/dicom/__init__.py:53: UserWarning: \n",
      "This code is using an older version of pydicom, which is no longer \n",
      "maintained as of Jan 2017.  You can access the new pydicom features and API \n",
      "by installing `pydicom` from PyPI.\n",
      "See 'Transitioning to pydicom 1.x' section at pydicom.readthedocs.org \n",
      "for more information.\n",
      "\n",
      "  warnings.warn(msg)\n",
      "Namespace(L1_gamma=5.0, L1_lambda=10.0, batch_size=10, beta1=0.5, beta2=0.999, checkpoint_dir='../logs/checkpoint', continue_train=True, dcm_path='../data', decay_epoch=100, end_epoch=160, gpu_no=1, img_channel=1, img_vmax=3072, img_vmin=-1024, lr=0.0002, model='cycle_identity', ndf=64, ngf=128, nglf=15, patch_size=56, phase='test', print_freq=200, save_freq=4756, steps_per_epoch=5000, taskID='20200701_050036', test_npy_save_dir='../logs/results', test_patient_no_A=['test_B30f'], test_patient_no_B=['test_B50f'], train_patient_no_A=['L067', 'L291'], train_patient_no_B=['L067', 'L291'], unpair=True, whole_size=512)\n",
      "2020-07-01 05:17:18.350887: I tensorflow/core/platform/cpu_feature_guard.cc:140] Your CPU supports instructions that this TensorFlow binary was not compiled to use: AVX2 AVX512F FMA\n",
      "2020-07-01 05:17:18.458022: I tensorflow/core/common_runtime/gpu/gpu_device.cc:1356] Found device 0 with properties: \n",
      "name: Quadro RTX 8000 major: 7 minor: 5 memoryClockRate(GHz): 1.77\n",
      "pciBusID: 0000:65:00.0\n",
      "totalMemory: 47.46GiB freeMemory: 47.29GiB\n",
      "2020-07-01 05:17:18.458053: I tensorflow/core/common_runtime/gpu/gpu_device.cc:1435] Adding visible gpu devices: 0\n",
      "2020-07-01 05:17:18.681734: I tensorflow/core/common_runtime/gpu/gpu_device.cc:923] Device interconnect StreamExecutor with strength 1 edge matrix:\n",
      "2020-07-01 05:17:18.681781: I tensorflow/core/common_runtime/gpu/gpu_device.cc:929]      0 \n",
      "2020-07-01 05:17:18.681788: I tensorflow/core/common_runtime/gpu/gpu_device.cc:942] 0:   N \n",
      "2020-07-01 05:17:18.681875: I tensorflow/core/common_runtime/gpu/gpu_device.cc:1053] Created TensorFlow device (/job:localhost/replica:0/task:0/device:GPU:0 with 45937 MB memory) -> physical GPU (device: 0, name: Quadro RTX 8000, pci bus id: 0000:65:00.0, compute capability: 7.5)\n",
      "directory check!!\n",
      "checkpoint : ../logs/checkpoint/20200701_050036\n",
      "tensorboard_logs : ../logs/checkpoint/20200701_050036_tb\n",
      "data load... dicom -> numpy\n",
      "data load complete !!!, 2.586125135421753, N_test : 323\n",
      "--------------------------------------------\n",
      "# of parameters : 12954352 \n",
      " [*] Reading checkpoint...\n",
      " [*] Load SUCCESS\n"
     ]
    }
   ],
   "source": [
    "!python main.py \\\n",
    "--phase=test \\\n",
    "--dcm_path='/data' \\\n",
    "--test_A_list='test_B30f' \\\n",
    "--test_B_list='test_B50f' \\\n",
    "--checkpoint_dir='/logs/checkpoint' \\\n",
    "--taskID='20200701_050036' \\\n",
    "--test_npy_save_dir='/logs/results' \\\n",
    "--gpu_no=1"
   ]
  }
 ],
 "metadata": {
  "kernelspec": {
   "display_name": "Python 3",
   "language": "python",
   "name": "python3"
  },
  "language_info": {
   "codemirror_mode": {
    "name": "ipython",
    "version": 3
   },
   "file_extension": ".py",
   "mimetype": "text/x-python",
   "name": "python",
   "nbconvert_exporter": "python",
   "pygments_lexer": "ipython3",
   "version": "3.5.2"
  }
 },
 "nbformat": 4,
 "nbformat_minor": 2
}
